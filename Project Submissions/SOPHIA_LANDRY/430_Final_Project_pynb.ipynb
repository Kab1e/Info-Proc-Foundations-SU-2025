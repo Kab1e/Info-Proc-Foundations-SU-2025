{
  "nbformat": 4,
  "nbformat_minor": 0,
  "metadata": {
    "colab": {
      "provenance": [],
      "authorship_tag": "ABX9TyMG6ACfIzdrX7mxbB5PL7zI",
      "include_colab_link": true
    },
    "kernelspec": {
      "name": "python3",
      "display_name": "Python 3"
    },
    "language_info": {
      "name": "python"
    }
  },
  "cells": [
    {
      "cell_type": "markdown",
      "metadata": {
        "id": "view-in-github",
        "colab_type": "text"
      },
      "source": [
        "<a href=\"https://colab.research.google.com/github/slandry3/Info-Proc-Foundations-SU-2025/blob/main/430_Final_Project_pynb.ipynb\" target=\"_parent\"><img src=\"https://colab.research.google.com/assets/colab-badge.svg\" alt=\"Open In Colab\"/></a>"
      ]
    },
    {
      "cell_type": "code",
      "execution_count": 2,
      "metadata": {
        "id": "oTbbghNaJEoy",
        "outputId": "134681ba-c769-4695-fecc-dc6e2b163290",
        "colab": {
          "base_uri": "https://localhost:8080/"
        }
      },
      "outputs": [
        {
          "output_type": "stream",
          "name": "stdout",
          "text": [
            "What day of your cycle are you on: 15\n",
            "Full Body Strength + Meditate\n"
          ]
        }
      ],
      "source": [
        "from datetime import datetime # the date time module supplies classes for manipulating dates and times\n",
        "\n",
        "# define cycle phases\n",
        "cycle_phases = {\n",
        "\"Menstrual\": range(1,6),\n",
        "\"Follicular\": range(6, 14),\n",
        "\"Ovulation\": range(14, 18),\n",
        "\"Luteal\": range(18, 29), # 28 day cycle because 29 is not included\n",
        "}\n",
        "\n",
        "# Start date of plan based on cycle\n",
        "start_date = datetime.today()\n",
        "cycle_day = input(\"What day of your cycle are you on: \") # returns string\n",
        "\n",
        "try: # convert user input to an integer\n",
        "  current_cycle_day = int(cycle_day)\n",
        "except ValueError:\n",
        "    print(\"Converting input to an integer.\") # had Invalid input. Please enter a number. but the program was still continuing after quit instead of having the user restart the program\n",
        "    quit()\n",
        "\n",
        "# determine cycle phase\n",
        "for phase, days_range in cycle_phases.items(): # returns a view object, which contains the key-value pairs of the dictionary, as tuples in a list\n",
        "    if current_cycle_day in days_range:\n",
        "        current_phase = phase\n",
        "        break\n",
        "\n",
        "# workout selection\n",
        "if current_phase == \"Menstrual\":\n",
        "    if current_cycle_day % 2 == 0:\n",
        "        print (\"Slow Flow + Meditate\")\n",
        "    else:\n",
        "        print (\"Gentle Pilates + Meditate\")\n",
        "elif current_phase == \"Follicular\": # one means assignment, two means true or false\n",
        "    if current_cycle_day % 3 == 0:\n",
        "        print (\"Strength (Lower Body)\")\n",
        "    elif current_cycle_day % 3 == 1:\n",
        "        print (\"Strength (Upper Body)\")\n",
        "    else:\n",
        "        print (\"Cardio\")\n",
        "        print (\"Power Flow + Meditate\")\n",
        "elif current_phase == \"Ovulation\":\n",
        "    print (\"Full Body Strength + Meditate\")\n",
        "elif current_phase == \"Luteal\":\n",
        "    if current_cycle_day % 3 == 0:\n",
        "        print (\"Pilates\")\n",
        "    elif current_cycle_day % 3 == 1:\n",
        "        print (\"Slow Flow\")\n",
        "    else:\n",
        "        print (\"Walk + Meditate\")\n",
        "# program ends after last line is executed"
      ]
    }
  ]
}
